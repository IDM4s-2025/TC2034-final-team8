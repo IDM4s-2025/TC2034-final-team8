{
 "cells": [
  {
   "cell_type": "code",
   "execution_count": 56,
   "id": "c03fb1e1",
   "metadata": {},
   "outputs": [],
   "source": [
    "import sys\n",
    "\n",
    "assert sys.version_info >= (3, 7)\n",
    "import pandas as pd\n",
    "\n",
    "from packaging import version\n",
    "import sklearn\n",
    "\n",
    "assert version.parse(sklearn.__version__) >= version.parse(\"1.0.1\")"
   ]
  },
  {
   "cell_type": "code",
   "execution_count": 57,
   "id": "5ec76214",
   "metadata": {},
   "outputs": [],
   "source": [
    "import matplotlib.pyplot as plt\n",
    "\n",
    "plt.rc('font', size=14)\n",
    "plt.rc('axes', labelsize=14, titlesize=14)\n",
    "plt.rc('legend', fontsize=14)\n",
    "plt.rc('xtick', labelsize=10)\n",
    "plt.rc('ytick', labelsize=10)"
   ]
  },
  {
   "cell_type": "code",
   "execution_count": 58,
   "id": "eba922bc",
   "metadata": {},
   "outputs": [],
   "source": [
    "from pathlib import Path\n",
    "\n",
    "IMAGES_PATH = Path() / \"images\" / \"decision_trees\"\n",
    "IMAGES_PATH.mkdir(parents=True, exist_ok=True)\n",
    "\n",
    "def save_fig(fig_id, tight_layout=True, fig_extension=\"png\", resolution=300):\n",
    "    path = IMAGES_PATH / f\"{fig_id}.{fig_extension}\"\n",
    "    if tight_layout:\n",
    "        plt.tight_layout()\n",
    "    plt.savefig(path, format=fig_extension, dpi=resolution)"
   ]
  },
  {
   "cell_type": "code",
   "execution_count": 62,
   "id": "33e55425",
   "metadata": {},
   "outputs": [
    {
     "name": "stdout",
     "output_type": "stream",
     "text": [
      "<class 'pandas.core.frame.DataFrame'>\n",
      "RangeIndex: 1473 entries, 0 to 1472\n",
      "Data columns (total 10 columns):\n",
      " #   Column                        Non-Null Count  Dtype   \n",
      "---  ------                        --------------  -----   \n",
      " 0   Wifes_age                     1473 non-null   uint8   \n",
      " 1   Wifes_education               1473 non-null   category\n",
      " 2   Husbands_education            1473 non-null   category\n",
      " 3   Number_of_children_ever_born  1473 non-null   uint8   \n",
      " 4   Wifes_religion                1473 non-null   category\n",
      " 5   Wifes_now_working%3F          1473 non-null   category\n",
      " 6   Husbands_occupation           1473 non-null   category\n",
      " 7   Standard-of-living_index      1473 non-null   category\n",
      " 8   Media_exposure                1473 non-null   category\n",
      " 9   Contraceptive_method_used     1473 non-null   category\n",
      "dtypes: category(8), uint8(2)\n",
      "memory usage: 15.8 KB\n",
      "None\n",
      "   Wifes_age Wifes_education Husbands_education  Number_of_children_ever_born  \\\n",
      "0         24               2                  3                             3   \n",
      "1         45               1                  3                            10   \n",
      "2         43               2                  3                             7   \n",
      "3         42               3                  2                             9   \n",
      "4         36               3                  3                             8   \n",
      "\n",
      "  Wifes_religion Wifes_now_working%3F Husbands_occupation  \\\n",
      "0              1                    1                   2   \n",
      "1              1                    1                   3   \n",
      "2              1                    1                   3   \n",
      "3              1                    1                   3   \n",
      "4              1                    1                   3   \n",
      "\n",
      "  Standard-of-living_index Media_exposure Contraceptive_method_used  \n",
      "0                        3              0                         1  \n",
      "1                        4              0                         1  \n",
      "2                        4              0                         1  \n",
      "3                        3              0                         1  \n",
      "4                        2              0                         1  \n"
     ]
    }
   ],
   "source": [
    "import openml\n",
    "import pandas as pd\n",
    "\n",
    "# Get Dataset from OPENML\n",
    "dataset = openml.datasets.get_dataset(23)\n",
    "\n",
    "\n",
    "df, *_ = dataset.get_data()\n",
    "\n",
    "# Display feature information\n",
    "print(df.info())\n",
    "print(df.head())\n",
    "\n",
    "# Separate features and class label\n",
    "X = df.drop('Contraceptive_method_used', axis=1)\n",
    "y = df['Contraceptive_method_used']\n",
    "\n",
    "\n",
    "categorical_features = [\"Wifes_education\",'Husbands_occupation',\"Husbands_education\",\"Standard-of-living_index\" ]\n",
    "\n",
    "# Convert categorical variables to dummy/indicator variables\n",
    "X_encoded = pd.get_dummies(X, columns=categorical_features, drop_first=True)\n",
    "\n",
    "\n",
    "from sklearn.preprocessing import StandardScaler\n",
    "\n",
    "# Scale the data\n",
    "scaler = StandardScaler()\n",
    "X_scaled = scaler.fit_transform(X_encoded)"
   ]
  },
  {
   "cell_type": "markdown",
   "id": "bb21c413",
   "metadata": {},
   "source": [
    "# Clustering"
   ]
  },
  {
   "cell_type": "markdown",
   "id": "8ea6df47",
   "metadata": {},
   "source": [
    "## K-Means"
   ]
  },
  {
   "cell_type": "code",
   "execution_count": null,
   "id": "84f6a956",
   "metadata": {},
   "outputs": [],
   "source": [
    "from sklearn.cluster import KMeans\n",
    "from sklearn.datasets import make_blobs\n",
    "import numpy as np\n",
    "from sklearn.preprocessing import StandardScaler\n",
    "\n",
    "# Scale the data\n",
    "scaler = StandardScaler()\n",
    "X_scaled = scaler.fit_transform(X_encoded)\n",
    "\n"
   ]
  }
 ],
 "metadata": {
  "kernelspec": {
   "display_name": "ClaseMAI",
   "language": "python",
   "name": "python3"
  },
  "language_info": {
   "codemirror_mode": {
    "name": "ipython",
    "version": 3
   },
   "file_extension": ".py",
   "mimetype": "text/x-python",
   "name": "python",
   "nbconvert_exporter": "python",
   "pygments_lexer": "ipython3",
   "version": "3.13.2"
  }
 },
 "nbformat": 4,
 "nbformat_minor": 5
}

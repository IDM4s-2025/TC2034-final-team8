{
 "cells": [
  {
   "cell_type": "code",
   "execution_count": 7,
   "id": "ae724004",
   "metadata": {},
   "outputs": [],
   "source": [
    "import sys\n",
    "\n",
    "assert sys.version_info >= (3, 7)\n",
    "import pandas as pd\n",
    "\n",
    "from packaging import version\n",
    "import sklearn\n",
    "\n",
    "assert version.parse(sklearn.__version__) >= version.parse(\"1.0.1\")\n",
    "\n",
    "import matplotlib.pyplot as plt\n",
    "\n",
    "plt.rc('font', size=14)\n",
    "plt.rc('axes', labelsize=14, titlesize=14)\n",
    "plt.rc('legend', fontsize=14)\n",
    "plt.rc('xtick', labelsize=10)\n",
    "plt.rc('ytick', labelsize=10)"
   ]
  },
  {
   "cell_type": "code",
   "execution_count": 8,
   "id": "97708c43",
   "metadata": {},
   "outputs": [],
   "source": [
    "from pathlib import Path\n",
    "\n",
    "IMAGES_PATH = Path() / \"images\" / \"decision_trees\"\n",
    "IMAGES_PATH.mkdir(parents=True, exist_ok=True)\n",
    "\n",
    "def save_fig(fig_id, tight_layout=True, fig_extension=\"png\", resolution=300):\n",
    "    path = IMAGES_PATH / f\"{fig_id}.{fig_extension}\"\n",
    "    if tight_layout:\n",
    "        plt.tight_layout()\n",
    "    plt.savefig(path, format=fig_extension, dpi=resolution)"
   ]
  },
  {
   "cell_type": "code",
   "execution_count": 9,
   "id": "6bdd683e",
   "metadata": {},
   "outputs": [],
   "source": [
    "import openml\n",
    "import pandas as pd\n",
    "\n",
    "# Get Dataset from OPENML\n",
    "dataset = openml.datasets.get_dataset(23)\n",
    "\n",
    "\n",
    "df, *_ = dataset.get_data()\n",
    "\n",
    "# Get features as X\n",
    "X = df.drop('Contraceptive_method_used',axis=1)\n",
    "\n",
    "\n",
    "# Get class as y\n",
    "y = df['Contraceptive_method_used']\n"
   ]
  },
  {
   "cell_type": "code",
   "execution_count": 10,
   "id": "9643c990",
   "metadata": {},
   "outputs": [],
   "source": [
    "from sklearn.model_selection import train_test_split\n",
    "\n",
    "X_train, X_test, y_train, y_test = train_test_split(X, y, test_size=0.2, random_state=42)"
   ]
  },
  {
   "cell_type": "code",
   "execution_count": 11,
   "id": "d761abba",
   "metadata": {},
   "outputs": [],
   "source": [
    "X_train_c2 = X_train.copy()\n",
    "X_test_c2 = X_test.copy()\n",
    "\n",
    "#Use dummies\n",
    "categorical_features = [\"Wifes_education\",'Husbands_occupation',\"Husbands_education\",\"Standard-of-living_index\" ]\n",
    "X_train_enc2 = pd.get_dummies(X_train_c2, columns=categorical_features, drop_first=True)\n",
    "X_test_enc2 = pd.get_dummies(X_test_c2, columns=categorical_features, drop_first=True)\n",
    "\n",
    "X_test_enc2 = X_test_enc2.reindex(columns=X_train_enc2.columns, fill_value=0)"
   ]
  },
  {
   "cell_type": "code",
   "execution_count": 12,
   "id": "d83473af",
   "metadata": {},
   "outputs": [
    {
     "name": "stdout",
     "output_type": "stream",
     "text": [
      "              precision    recall  f1-score   support\n",
      "\n",
      "           1       0.72      0.66      0.69       130\n",
      "           2       0.54      0.39      0.46        71\n",
      "           3       0.45      0.59      0.51        94\n",
      "\n",
      "    accuracy                           0.57       295\n",
      "   macro avg       0.57      0.55      0.55       295\n",
      "weighted avg       0.59      0.57      0.57       295\n",
      "\n",
      "Best parameters: {'criterion': 'entropy', 'max_depth': 5, 'min_samples_leaf': 1, 'min_samples_split': 10}\n",
      "Best weighted F1 score: 0.5462761504551412\n"
     ]
    }
   ],
   "source": [
    "from sklearn.tree import DecisionTreeClassifier\n",
    "from sklearn.model_selection import GridSearchCV\n",
    "from sklearn.metrics import classification_report\n",
    "from sklearn.model_selection import StratifiedKFold\n",
    "\n",
    "cv = StratifiedKFold(n_splits=8, shuffle=True, random_state=42)\n",
    "\n",
    "\n",
    "param_grid = {\n",
    "    'max_depth': [None, 5, 10, 30],\n",
    "    'min_samples_split': [2, 5, 10],\n",
    "    'min_samples_leaf': [1, 2, 4],\n",
    "    'criterion': ['gini', 'entropy']\n",
    "}\n",
    "\n",
    "\n",
    "# Set up GridSearchCV\n",
    "grid_search = GridSearchCV(\n",
    "    estimator=DecisionTreeClassifier(random_state=42),\n",
    "    param_grid=param_grid,\n",
    "    scoring='f1_weighted',  \n",
    "    cv=cv,\n",
    ")\n",
    "\n",
    "grid_search.fit(X_train_enc2, y_train)\n",
    "\n",
    "best_tree = grid_search.best_estimator_\n",
    "\n",
    "\n",
    "y_pred_default = best_tree.predict(X_test_enc2)\n",
    "print(classification_report(y_test, y_pred_default))\n",
    "\n",
    "\n",
    "print(\"Best parameters:\", grid_search.best_params_)\n",
    "print(\"Best weighted F1 score:\", grid_search.best_score_)\n"
   ]
  }
 ],
 "metadata": {
  "kernelspec": {
   "display_name": "IDM",
   "language": "python",
   "name": "python3"
  },
  "language_info": {
   "codemirror_mode": {
    "name": "ipython",
    "version": 3
   },
   "file_extension": ".py",
   "mimetype": "text/x-python",
   "name": "python",
   "nbconvert_exporter": "python",
   "pygments_lexer": "ipython3",
   "version": "3.11.11"
  }
 },
 "nbformat": 4,
 "nbformat_minor": 5
}
